{
 "cells": [
  {
   "cell_type": "code",
   "execution_count": null,
   "id": "6c345640",
   "metadata": {},
   "outputs": [],
   "source": [
    "from datetime import date\n",
    "import sympy\n",
    "from pprint import pprint\n",
    "import numpy as np\n",
    "import pandas as pd\n",
    "import covsirphy as cs"
   ]
  },
  {
   "cell_type": "code",
   "execution_count": null,
   "id": "796b01be",
   "metadata": {},
   "outputs": [],
   "source": [
    "eng = cs.DataEngineer()\n",
    "eng.download(databases=[\"covid19dh\", \"owid\"])"
   ]
  },
  {
   "cell_type": "code",
   "execution_count": null,
   "id": "5bfba590",
   "metadata": {},
   "outputs": [],
   "source": [
    "all_df = eng.all()\n",
    "# Overview of the records\n",
    "all_df.info()"
   ]
  },
  {
   "cell_type": "code",
   "execution_count": null,
   "id": "a6b14c4e",
   "metadata": {},
   "outputs": [],
   "source": [
    "# You can choose the path according to your actual situation.\n",
    "eng.all().loc[:,'Date'] = pd.to_datetime(eng.all().loc[:,'Date'], format='%Y-%m-%d', errors='coerce')\n",
    "eng.clean(kinds=[\"convert_date\"])"
   ]
  },
  {
   "cell_type": "code",
   "execution_count": null,
   "id": "f614f3b1",
   "metadata": {
    "scrolled": true
   },
   "outputs": [],
   "source": [
    "eng.transform()\n",
    "main_variables = [\"Population\", \"Susceptible\", \"Confirmed\", \"Infected\", \"Fatal\", \"Recovered\"]\n",
    "eng.all(variables=main_variables)\n"
   ]
  },
  {
   "cell_type": "code",
   "execution_count": null,
   "id": "621e2d8b",
   "metadata": {},
   "outputs": [],
   "source": [
    "eng.clean()\n",
    "eng.transform()\n",
    "actual_df, status, _ = eng.subset(geo=(\"France\",), variables=\"SIRF\", complement=True)\n",
    "print(status)\n",
    "actual_df.tail()"
   ]
  },
  {
   "cell_type": "code",
   "execution_count": null,
   "id": "6786e811",
   "metadata": {},
   "outputs": [],
   "source": [
    "dyn_act = cs.Dynamics.from_data(model=cs.SIRFModel, data=actual_df, name=\"Taiwan\")\n",
    "# Show registered values\n",
    "dyn_act.register().tail()"
   ]
  },
  {
   "cell_type": "code",
   "execution_count": null,
   "id": "6b1c79b2",
   "metadata": {},
   "outputs": [],
   "source": [
    "#You can save the Parameters of SIRF\n",
    "dyn_act.register().to_csv('E:/Data/Parameters.csv')"
   ]
  }
 ],
 "metadata": {
  "kernelspec": {
   "display_name": "Python [conda env:covid]",
   "language": "python",
   "name": "conda-env-covid-py"
  },
  "language_info": {
   "codemirror_mode": {
    "name": "ipython",
    "version": 3
   },
   "file_extension": ".py",
   "mimetype": "text/x-python",
   "name": "python",
   "nbconvert_exporter": "python",
   "pygments_lexer": "ipython3",
   "version": "3.8.13"
  }
 },
 "nbformat": 4,
 "nbformat_minor": 5
}
