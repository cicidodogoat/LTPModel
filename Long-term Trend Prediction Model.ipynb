{
 "cells": [
  {
   "cell_type": "code",
   "execution_count": 1,
   "id": "c15ace16",
   "metadata": {},
   "outputs": [],
   "source": [
    "import matplotlib.pyplot as plt\n",
    "import numpy as np\n",
    "import pandas as pd\n",
    "import tensorflow as tf\n",
    "import tensorflow.keras.backend as K\n",
    "from sklearn.preprocessing import MinMaxScaler\n",
    "from tensorflow.keras.callbacks import *\n",
    "from tensorflow.keras.initializers import *\n",
    "from tensorflow.keras.layers import *\n",
    "from tensorflow.keras.models import *\n",
    "from tensorflow.python.keras.layers import Layer\n",
    "from sklearn.preprocessing import StandardScaler\n",
    "from sklearn.metrics import mean_absolute_error\n",
    "from sklearn.metrics import mean_absolute_percentage_error\n",
    "from sklearn.metrics import r2_score"
   ]
  },
  {
   "cell_type": "code",
   "execution_count": null,
   "id": "c87b6ffc",
   "metadata": {},
   "outputs": [],
   "source": [
    "#“This is an example of a path. You can choose the path according to your actual situation.”\n",
    "#The data used below is a fusion of parameters extracted from the SIRF model and epidemic prevention policy parameters\n",
    "file_path = \"E:/Data/South Korea/South korea.csv\"\n",
    "df = pd.read_csv(file_path,parse_dates=[\"Date\"],index_col=[0])"
   ]
  },
  {
   "cell_type": "code",
   "execution_count": null,
   "id": "7c8d46a0",
   "metadata": {},
   "outputs": [],
   "source": [
    "scaler = MinMaxScaler()\n",
    "test_ = df[-215:]\n",
    "df_for_scaled_test = scaler.fit_transform(test_)\n",
    "test = df_for_scaled_test"
   ]
  },
  {
   "cell_type": "code",
   "execution_count": null,
   "id": "10bf9503",
   "metadata": {},
   "outputs": [],
   "source": [
    "#The Train data is weighted data\n",
    "file_path = \"E:/Data/weighted data.csv\"\n",
    "train = pd.read_csv(file_path,index_col=[0])"
   ]
  },
  {
   "cell_type": "code",
   "execution_count": null,
   "id": "2234b7f3",
   "metadata": {},
   "outputs": [],
   "source": [
    "SEQ_LEN = 10\n",
    "FUTURE_PERIOD_PREDICT = 1"
   ]
  },
  {
   "cell_type": "code",
   "execution_count": null,
   "id": "346d79e3",
   "metadata": {},
   "outputs": [],
   "source": [
    "def timestamp_data(data):\n",
    "    X = []\n",
    "    Y = []\n",
    "    for i in range(SEQ_LEN, len(data) - FUTURE_PERIOD_PREDICT + 1):\n",
    "        X.append(data[i - SEQ_LEN:i, :18])\n",
    "        Y.append(data[i + (FUTURE_PERIOD_PREDICT - 1), 18])\n",
    "    return np.array(X), np.array(Y)"
   ]
  },
  {
   "cell_type": "code",
   "execution_count": null,
   "id": "d11c1d7a",
   "metadata": {},
   "outputs": [],
   "source": [
    "X_train, y_train = timestamp_data(train)\n",
    "X_test, y_test = timestamp_data(test)\n",
    "print('X_test', X_test.shape, 'y_test', y_test.shape)\n",
    "print(\"train shape {0}\".format(X_train.shape))\n",
    "print(\"test shape {0}\".format(X_test.shape))"
   ]
  },
  {
   "cell_type": "code",
   "execution_count": null,
   "id": "ac9a2cd5",
   "metadata": {},
   "outputs": [],
   "source": [
    "from tensorflow.keras.wrappers.scikit_learn import KerasRegressor\n",
    "from tensorflow.keras.callbacks import ReduceLROnPlateau"
   ]
  },
  {
   "cell_type": "code",
   "execution_count": null,
   "id": "a5ccd485",
   "metadata": {},
   "outputs": [],
   "source": [
    "def build_model():\n",
    "    from tensorflow.keras.models import Sequential\n",
    "    model_lstm_attention = Sequential()\n",
    "     \n",
    "    model_lstm_attention.add(Bidirectional(GRU(64,return_sequences=False),input_shape=(SEQ_LEN, 18)))\n",
    "    model_lstm_attention.add(Dropout(0.2))\n",
    "    model_lstm_attention.add(Dropout(0.2))\n",
    "    model_lstm_attention.add(Dense(16, activation=\"tanh\"))\n",
    "    model_lstm_attention.add(Dropout(0.2))\n",
    "    model_lstm_attention.add(Dense(1, activation=\"relu\"))\n",
    "    model_lstm_attention.compile(loss='mean_squared_error', optimizer='adam')\n",
    "    model_lstm_attention.summary()\n",
    "    return model_lstm_attention"
   ]
  },
  {
   "cell_type": "code",
   "execution_count": null,
   "id": "2f6e3fc8",
   "metadata": {},
   "outputs": [],
   "source": [
    "earlyStopping = EarlyStopping(monitor='val_loss', patience=10, verbose=1, mode='min',restore_best_weights=True)\n",
    "reduce_lr = ReduceLROnPlateau(monitor='val_loss',factor=0.01, patience=5, mode='auto')\n",
    "checkpoint = tf.keras.callbacks.ModelCheckpoint(\n",
    "        filepath='E:/model.h5',#This is an example of a model save path. You can set it according to your actual situation.\n",
    "        monitor='val_loss',\n",
    "        verbose = 1,\n",
    "        save_weights_only=True,\n",
    "        mode='min'\n",
    "    )"
   ]
  },
  {
   "cell_type": "code",
   "execution_count": null,
   "id": "a594f1af",
   "metadata": {},
   "outputs": [],
   "source": [
    "model_lstm_attention = KerasRegressor(build_fn=build_model,verbose=1)\n",
    "my_model = model_lstm_attention\n",
    "my_model.fit(X_train, y_train,\n",
    "                         batch_size=128,\n",
    "                         epochs=1000,\n",
    "                         validation_data=(X_test, y_test),callbacks=[earlyStopping,reduce_lr])\n",
    "predicted_LSTM_Att = my_model.predict(X_test)"
   ]
  },
  {
   "cell_type": "code",
   "execution_count": null,
   "id": "53d37792",
   "metadata": {},
   "outputs": [],
   "source": [
    "prediction_copies_array = np.repeat(predicted_LSTM_Att,19, axis=-1)\n",
    "pred=scaler.inverse_transform(np.reshape(prediction_copies_array,(len(predicted_LSTM_Att),19)))[:,0]\n",
    "original_copies_array = np.repeat(y_test,19, axis=-1)\n",
    "original=scaler.inverse_transform(np.reshape(original_copies_array,(len(y_test),19)))[:,18]"
   ]
  },
  {
   "cell_type": "code",
   "execution_count": null,
   "id": "6b19be61",
   "metadata": {},
   "outputs": [],
   "source": [
    "def relative_error(prediction, actual):\n",
    "        return abs(prediction - actual) / actual"
   ]
  },
  {
   "cell_type": "code",
   "execution_count": null,
   "id": "3a4cf448",
   "metadata": {},
   "outputs": [],
   "source": [
    "relative_error(pred,original)\n",
    "mae = mean_absolute_error(pred,original)\n",
    "r2 = r2_score(y_true=original,y_pred=pred)\n",
    "mape = mean_absolute_percentage_error(pred,original)"
   ]
  }
 ],
 "metadata": {
  "kernelspec": {
   "display_name": "Python [conda env:yiqing]",
   "language": "python",
   "name": "conda-env-yiqing-py"
  },
  "language_info": {
   "codemirror_mode": {
    "name": "ipython",
    "version": 3
   },
   "file_extension": ".py",
   "mimetype": "text/x-python",
   "name": "python",
   "nbconvert_exporter": "python",
   "pygments_lexer": "ipython3",
   "version": "3.8.13"
  }
 },
 "nbformat": 4,
 "nbformat_minor": 5
}
