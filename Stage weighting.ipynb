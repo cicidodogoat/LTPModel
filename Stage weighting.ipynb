{
 "cells": [
  {
   "cell_type": "code",
   "execution_count": null,
   "id": "461751d3",
   "metadata": {},
   "outputs": [],
   "source": [
    "import numpy as np\n",
    "import pandas as pd\n",
    "import tensorflow as tf"
   ]
  },
  {
   "cell_type": "code",
   "execution_count": null,
   "id": "c1fb3589",
   "metadata": {},
   "outputs": [],
   "source": [
    "file_path = \"E:/Data/South Korea/South korea.csv\"\n",
    "df = pd.read_csv(file_path,parse_dates=[\"Date\"],index_col=[0])"
   ]
  },
  {
   "cell_type": "code",
   "execution_count": null,
   "id": "caaf65be",
   "metadata": {},
   "outputs": [],
   "source": [
    "df = scaler.fit_transform(df)\n",
    "# “Initialize an empty list to store data from different stages.”\n",
    "stages = []\n",
    "# Set up according to the actual stage division. Here is an example.\n",
    "intervals = [(0, 199), (200, 719), (720, 821), (822, 879), (880, 920)]\n",
    "for start, end in intervals:\n",
    "    stages.append(df[start:end, :])\n",
    "for i, stage in enumerate(stages):\n",
    "    print(f\"Stage {i+1} shape: {stage.shape}\")"
   ]
  },
  {
   "cell_type": "code",
   "execution_count": null,
   "id": "d9fd7037",
   "metadata": {},
   "outputs": [],
   "source": [
    "from tensorflow.keras.layers import Input, Dense, Attention\n",
    "from tensorflow.keras.models import Model\n",
    "\n",
    "# “Customize the self-attention layer.”\n",
    "class SelfAttention(tf.keras.layers.Layer):\n",
    "    def __init__(self, input_dim):\n",
    "        super(SelfAttention, self).__init__()\n",
    "        self.query_dense = Dense(input_dim)\n",
    "        self.key_dense = Dense(input_dim)\n",
    "        self.value_dense = Dense(input_dim)\n",
    "        self.softmax = tf.keras.layers.Softmax(axis=-1)\n",
    "\n",
    "    def call(self, inputs):\n",
    "        query = self.query_dense(inputs)\n",
    "        key = self.key_dense(inputs)\n",
    "        value = self.value_dense(inputs)\n",
    "        attention_scores = tf.matmul(query, key, transpose_b=True) / tf.sqrt(tf.cast(tf.shape(key)[-1], tf.float32))\n",
    "        attention_weights = self.softmax(attention_scores)\n",
    "        output = tf.matmul(attention_weights, value)\n",
    "        return output, attention_weights"
   ]
  },
  {
   "cell_type": "code",
   "execution_count": null,
   "id": "941f1cae",
   "metadata": {},
   "outputs": [],
   "source": [
    "stages = [stages[0],stages[1],stages[2],stages[3],stages[4]]\n",
    "# “Create a self-attention layer.”\n",
    "input_dim = 19\n",
    "attention_layer = SelfAttention(input_dim)\n",
    "\n",
    "# Calculate the correlation between each stage.\n",
    "attention_weights_list = []\n",
    "for stage in stages:\n",
    "    stage_input = tf.convert_to_tensor(stage, dtype=tf.float32)\n",
    "    _, attention_weights = attention_layer(stage_input)\n",
    "    attention_weights_list.append(attention_weights)\n",
    "\n",
    "stage_weights = [tf.reduce_mean(weights).numpy() for weights in attention_weights_list]"
   ]
  },
  {
   "cell_type": "code",
   "execution_count": null,
   "id": "167b27dc",
   "metadata": {},
   "outputs": [],
   "source": [
    "stage0=stages[0]*stage_weights[0]\n",
    "stage1 = stages[1]*stage_weights[1]\n",
    "stage2=stages[2]*stage_weights[2]\n",
    "stage3 = stages[3]*stage_weights[3]\n",
    "stage4=stages[4]*stage_weights[4]"
   ]
  },
  {
   "cell_type": "code",
   "execution_count": null,
   "id": "29e0db30",
   "metadata": {},
   "outputs": [],
   "source": [
    "train_=tf.concat([stage0,stage1,stage2,stage3,stage4], axis=0)\n",
    "#You need to save the Weighted data,you can choose the path according to your actual situation.\n",
    "train_.to_csv('E:/Data/weighted data')"
   ]
  }
 ],
 "metadata": {
  "kernelspec": {
   "display_name": "Python [conda env:yiqing]",
   "language": "python",
   "name": "conda-env-yiqing-py"
  },
  "language_info": {
   "codemirror_mode": {
    "name": "ipython",
    "version": 3
   },
   "file_extension": ".py",
   "mimetype": "text/x-python",
   "name": "python",
   "nbconvert_exporter": "python",
   "pygments_lexer": "ipython3",
   "version": "3.8.13"
  }
 },
 "nbformat": 4,
 "nbformat_minor": 5
}
